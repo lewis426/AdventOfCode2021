{
 "cells": [
  {
   "cell_type": "code",
   "execution_count": 1,
   "id": "d320d1b5",
   "metadata": {},
   "outputs": [],
   "source": [
    "import pandas as pd"
   ]
  },
  {
   "cell_type": "markdown",
   "id": "76dfbfc1",
   "metadata": {},
   "source": [
    "## Day 1 Part 1"
   ]
  },
  {
   "cell_type": "code",
   "execution_count": 6,
   "id": "9b1413d9",
   "metadata": {},
   "outputs": [],
   "source": [
    "number_df = pd.read_csv(r'\\\\corp-not-vs12\\V12PERSON\\HR Analysis Team\\01_HRAnalysisTeam\\106_Lewis\\AdventOfCode2021\\Day1\\InputFile.csv', header=None)"
   ]
  },
  {
   "cell_type": "code",
   "execution_count": 9,
   "id": "407482d5",
   "metadata": {},
   "outputs": [],
   "source": [
    "number_list = number_df[0]"
   ]
  },
  {
   "cell_type": "code",
   "execution_count": 11,
   "id": "f03cc6c0",
   "metadata": {},
   "outputs": [],
   "source": [
    "prev_num = \"N/A\"\n",
    "\n",
    "change_list = []\n",
    "for num in number_list:\n",
    "    if prev_num == \"N/A\":\n",
    "        change = \"N/A - no previous measurment\"\n",
    "    elif prev_num == num:\n",
    "        change = \"Equals previous number\"\n",
    "    elif prev_num<num:\n",
    "        change = \"increased\"\n",
    "    else:\n",
    "        change = \"decreased\"\n",
    "    \n",
    "    change_list.append(change)\n",
    "    prev_num = num"
   ]
  },
  {
   "cell_type": "code",
   "execution_count": 13,
   "id": "5bcd3f1b",
   "metadata": {},
   "outputs": [
    {
     "data": {
      "text/plain": [
       "1288"
      ]
     },
     "execution_count": 13,
     "metadata": {},
     "output_type": "execute_result"
    }
   ],
   "source": [
    "change_list.count('increased')"
   ]
  },
  {
   "cell_type": "markdown",
   "id": "2a2aa81a",
   "metadata": {},
   "source": [
    "## Day 1 Part 2"
   ]
  },
  {
   "cell_type": "code",
   "execution_count": 23,
   "id": "8c5f7daa",
   "metadata": {},
   "outputs": [],
   "source": [
    "number_df = pd.read_csv(r'\\\\corp-not-vs12\\V12PERSON\\HR Analysis Team\\01_HRAnalysisTeam\\106_Lewis\\AdventOfCode2021\\Day1\\InputFile2.csv', header=None)"
   ]
  },
  {
   "cell_type": "code",
   "execution_count": 24,
   "id": "f8025d7b",
   "metadata": {},
   "outputs": [],
   "source": [
    "number_list = number_df[0]"
   ]
  },
  {
   "cell_type": "code",
   "execution_count": 27,
   "id": "955b4155",
   "metadata": {},
   "outputs": [],
   "source": [
    "# Build sum list\n",
    "sum_list = []\n",
    "\n",
    "prev_num = \"N/A\"\n",
    "\n",
    "prev_prev_num = \"N/A\"\n",
    "\n",
    "for num in number_list:\n",
    "    if prev_num == \"N/A\":\n",
    "        change = \"N/A - no previous measurment\"\n",
    "    elif prev_prev_num == \"N/A\":\n",
    "        change = \"N/A - no previous measurment\"\n",
    "    else:\n",
    "        sum_num = num + prev_num + prev_prev_num\n",
    "        sum_list.append(sum_num)\n",
    "    \n",
    "    prev_prev_num = prev_num\n",
    "    prev_num = num"
   ]
  },
  {
   "cell_type": "code",
   "execution_count": 28,
   "id": "c135350b",
   "metadata": {},
   "outputs": [],
   "source": [
    "# Now calculate changes in sum list\n",
    "\n",
    "prev_num = \"N/A\"\n",
    "\n",
    "change_list = []\n",
    "for num in sum_list:\n",
    "    if prev_num == \"N/A\":\n",
    "        change = \"N/A - no previous measurment\"\n",
    "    elif prev_num == num:\n",
    "        change = \"Equals previous number\"\n",
    "    elif prev_num<num:\n",
    "        change = \"increased\"\n",
    "    else:\n",
    "        change = \"decreased\"\n",
    "    \n",
    "    change_list.append(change)\n",
    "    prev_num = num"
   ]
  },
  {
   "cell_type": "code",
   "execution_count": 29,
   "id": "d3cfaae4",
   "metadata": {},
   "outputs": [
    {
     "data": {
      "text/plain": [
       "1311"
      ]
     },
     "execution_count": 29,
     "metadata": {},
     "output_type": "execute_result"
    }
   ],
   "source": [
    "change_list.count('increased')"
   ]
  },
  {
   "cell_type": "markdown",
   "id": "5cdb6c7c",
   "metadata": {},
   "source": [
    "## Day 2 Part 1"
   ]
  },
  {
   "cell_type": "code",
   "execution_count": 32,
   "id": "09f694cc",
   "metadata": {},
   "outputs": [],
   "source": [
    "instruction_df = pd.read_csv(r'\\\\corp-not-vs12\\V12PERSON\\HR Analysis Team\\01_HRAnalysisTeam\\106_Lewis\\AdventOfCode2021\\Day2\\InputFile.csv', header=None)"
   ]
  },
  {
   "cell_type": "code",
   "execution_count": 33,
   "id": "c004e329",
   "metadata": {},
   "outputs": [],
   "source": [
    "instruction_list = instruction_df[0]"
   ]
  },
  {
   "cell_type": "code",
   "execution_count": 38,
   "id": "52898829",
   "metadata": {
    "scrolled": true
   },
   "outputs": [
    {
     "name": "stdout",
     "output_type": "stream",
     "text": [
      "2039256\n"
     ]
    }
   ],
   "source": [
    "# Build sum list\n",
    "horizontal = 0\n",
    "vertical = 0\n",
    "\n",
    "for instruction in instruction_list:\n",
    "    direction = instruction[:-2]\n",
    "    value = int(instruction[-1])\n",
    "    \n",
    "    if direction == \"forward\":\n",
    "        horizontal += value\n",
    "    elif direction == \"down\":\n",
    "        vertical += value\n",
    "    elif direction == \"up\":\n",
    "        vertical -= value\n",
    "        \n",
    "print(vertical*horizontal)"
   ]
  },
  {
   "cell_type": "markdown",
   "id": "57462222",
   "metadata": {},
   "source": [
    "## Day 2 Part 2"
   ]
  },
  {
   "cell_type": "code",
   "execution_count": 43,
   "id": "18d84eba",
   "metadata": {},
   "outputs": [],
   "source": [
    "instruction_df = pd.read_csv(r'\\\\corp-not-vs12\\V12PERSON\\HR Analysis Team\\01_HRAnalysisTeam\\106_Lewis\\AdventOfCode2021\\Day2\\InputFile2.csv', header=None)"
   ]
  },
  {
   "cell_type": "code",
   "execution_count": 44,
   "id": "ace44e15",
   "metadata": {},
   "outputs": [],
   "source": [
    "instruction_list = instruction_df[0]"
   ]
  },
  {
   "cell_type": "code",
   "execution_count": 48,
   "id": "d4196df2",
   "metadata": {
    "scrolled": true
   },
   "outputs": [
    {
     "name": "stdout",
     "output_type": "stream",
     "text": [
      "1856459736\n"
     ]
    }
   ],
   "source": [
    "# Build sum list\n",
    "horizontal = 0\n",
    "vertical = 0\n",
    "aim = 0\n",
    "\n",
    "for instruction in instruction_list:\n",
    "    direction = instruction[:-2]\n",
    "    value = int(instruction[-1])\n",
    "    \n",
    "    if direction == \"forward\":\n",
    "        horizontal += value\n",
    "        vertical += (value*aim)\n",
    "    elif direction == \"down\":\n",
    "        #vertical += value\n",
    "        aim+= value\n",
    "    elif direction == \"up\":\n",
    "        #vertical -= value\n",
    "        aim -= value\n",
    "    \n",
    "    #print(horizontal, vertical, aim)\n",
    "        \n",
    "print(vertical*horizontal)"
   ]
  },
  {
   "cell_type": "code",
   "execution_count": null,
   "id": "45f5c348",
   "metadata": {},
   "outputs": [],
   "source": []
  }
 ],
 "metadata": {
  "kernelspec": {
   "display_name": "Python 3",
   "language": "python",
   "name": "python3"
  },
  "language_info": {
   "codemirror_mode": {
    "name": "ipython",
    "version": 3
   },
   "file_extension": ".py",
   "mimetype": "text/x-python",
   "name": "python",
   "nbconvert_exporter": "python",
   "pygments_lexer": "ipython3",
   "version": "3.8.8"
  }
 },
 "nbformat": 4,
 "nbformat_minor": 5
}
