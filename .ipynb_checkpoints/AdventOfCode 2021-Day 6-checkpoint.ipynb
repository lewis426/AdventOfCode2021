{
 "cells": [
  {
   "cell_type": "code",
   "execution_count": 4,
   "id": "d320d1b5",
   "metadata": {},
   "outputs": [],
   "source": [
    "import pandas as pd\n",
    "import numpy as np"
   ]
  },
  {
   "cell_type": "markdown",
   "id": "76dfbfc1",
   "metadata": {},
   "source": [
    "## Day 4 Part 1"
   ]
  },
  {
   "cell_type": "code",
   "execution_count": 26,
   "id": "9b1413d9",
   "metadata": {},
   "outputs": [],
   "source": [
    "number_df = pd.read_csv(r'\\\\corp-not-vs12\\V12PERSON\\HR Analysis Team\\01_HRAnalysisTeam\\106_Lewis\\AdventOfCode2021\\Day6\\InputFile.csv', header=None)"
   ]
  },
  {
   "cell_type": "code",
   "execution_count": 27,
   "id": "7aa9276c",
   "metadata": {},
   "outputs": [],
   "source": [
    "number_list = number_df[0].str.split(',')[0]\n",
    "number_list = [int(x) for x in number_list]"
   ]
  },
  {
   "cell_type": "code",
   "execution_count": 28,
   "id": "407482d5",
   "metadata": {},
   "outputs": [
    {
     "data": {
      "text/plain": [
       "[3,\n",
       " 5,\n",
       " 3,\n",
       " 5,\n",
       " 1,\n",
       " 3,\n",
       " 1,\n",
       " 1,\n",
       " 5,\n",
       " 5,\n",
       " 1,\n",
       " 1,\n",
       " 1,\n",
       " 2,\n",
       " 2,\n",
       " 2,\n",
       " 3,\n",
       " 1,\n",
       " 1,\n",
       " 5,\n",
       " 1,\n",
       " 1,\n",
       " 5,\n",
       " 5,\n",
       " 3,\n",
       " 2,\n",
       " 2,\n",
       " 5,\n",
       " 4,\n",
       " 4,\n",
       " 1,\n",
       " 5,\n",
       " 1,\n",
       " 4,\n",
       " 4,\n",
       " 5,\n",
       " 2,\n",
       " 4,\n",
       " 1,\n",
       " 1,\n",
       " 5,\n",
       " 3,\n",
       " 1,\n",
       " 1,\n",
       " 4,\n",
       " 1,\n",
       " 1,\n",
       " 1,\n",
       " 1,\n",
       " 4,\n",
       " 1,\n",
       " 1,\n",
       " 1,\n",
       " 1,\n",
       " 2,\n",
       " 1,\n",
       " 1,\n",
       " 4,\n",
       " 1,\n",
       " 1,\n",
       " 1,\n",
       " 2,\n",
       " 3,\n",
       " 5,\n",
       " 5,\n",
       " 1,\n",
       " 1,\n",
       " 3,\n",
       " 1,\n",
       " 4,\n",
       " 1,\n",
       " 3,\n",
       " 4,\n",
       " 5,\n",
       " 1,\n",
       " 4,\n",
       " 5,\n",
       " 1,\n",
       " 1,\n",
       " 4,\n",
       " 1,\n",
       " 3,\n",
       " 1,\n",
       " 5,\n",
       " 1,\n",
       " 2,\n",
       " 1,\n",
       " 1,\n",
       " 2,\n",
       " 1,\n",
       " 4,\n",
       " 1,\n",
       " 1,\n",
       " 1,\n",
       " 4,\n",
       " 4,\n",
       " 3,\n",
       " 1,\n",
       " 1,\n",
       " 1,\n",
       " 1,\n",
       " 1,\n",
       " 4,\n",
       " 1,\n",
       " 4,\n",
       " 5,\n",
       " 2,\n",
       " 1,\n",
       " 4,\n",
       " 5,\n",
       " 4,\n",
       " 1,\n",
       " 1,\n",
       " 1,\n",
       " 2,\n",
       " 2,\n",
       " 1,\n",
       " 4,\n",
       " 4,\n",
       " 1,\n",
       " 1,\n",
       " 4,\n",
       " 1,\n",
       " 1,\n",
       " 1,\n",
       " 2,\n",
       " 3,\n",
       " 4,\n",
       " 2,\n",
       " 4,\n",
       " 1,\n",
       " 1,\n",
       " 5,\n",
       " 4,\n",
       " 2,\n",
       " 1,\n",
       " 5,\n",
       " 1,\n",
       " 1,\n",
       " 5,\n",
       " 1,\n",
       " 2,\n",
       " 1,\n",
       " 1,\n",
       " 1,\n",
       " 5,\n",
       " 5,\n",
       " 2,\n",
       " 1,\n",
       " 4,\n",
       " 3,\n",
       " 1,\n",
       " 2,\n",
       " 2,\n",
       " 4,\n",
       " 1,\n",
       " 2,\n",
       " 1,\n",
       " 1,\n",
       " 5,\n",
       " 1,\n",
       " 3,\n",
       " 2,\n",
       " 4,\n",
       " 3,\n",
       " 1,\n",
       " 4,\n",
       " 3,\n",
       " 1,\n",
       " 2,\n",
       " 1,\n",
       " 1,\n",
       " 1,\n",
       " 1,\n",
       " 1,\n",
       " 4,\n",
       " 3,\n",
       " 3,\n",
       " 1,\n",
       " 3,\n",
       " 1,\n",
       " 1,\n",
       " 5,\n",
       " 1,\n",
       " 1,\n",
       " 1,\n",
       " 1,\n",
       " 3,\n",
       " 3,\n",
       " 1,\n",
       " 3,\n",
       " 5,\n",
       " 1,\n",
       " 5,\n",
       " 5,\n",
       " 2,\n",
       " 1,\n",
       " 2,\n",
       " 1,\n",
       " 4,\n",
       " 2,\n",
       " 3,\n",
       " 4,\n",
       " 1,\n",
       " 4,\n",
       " 2,\n",
       " 4,\n",
       " 2,\n",
       " 5,\n",
       " 3,\n",
       " 4,\n",
       " 3,\n",
       " 5,\n",
       " 1,\n",
       " 2,\n",
       " 1,\n",
       " 1,\n",
       " 4,\n",
       " 1,\n",
       " 3,\n",
       " 5,\n",
       " 1,\n",
       " 4,\n",
       " 1,\n",
       " 2,\n",
       " 4,\n",
       " 3,\n",
       " 1,\n",
       " 5,\n",
       " 1,\n",
       " 1,\n",
       " 2,\n",
       " 2,\n",
       " 4,\n",
       " 2,\n",
       " 3,\n",
       " 1,\n",
       " 1,\n",
       " 1,\n",
       " 5,\n",
       " 2,\n",
       " 1,\n",
       " 4,\n",
       " 1,\n",
       " 1,\n",
       " 1,\n",
       " 4,\n",
       " 1,\n",
       " 3,\n",
       " 3,\n",
       " 2,\n",
       " 4,\n",
       " 1,\n",
       " 4,\n",
       " 2,\n",
       " 5,\n",
       " 1,\n",
       " 5,\n",
       " 2,\n",
       " 1,\n",
       " 4,\n",
       " 1,\n",
       " 3,\n",
       " 1,\n",
       " 2,\n",
       " 5,\n",
       " 5,\n",
       " 4,\n",
       " 1,\n",
       " 2,\n",
       " 3,\n",
       " 3,\n",
       " 2,\n",
       " 2,\n",
       " 1,\n",
       " 3,\n",
       " 3,\n",
       " 1,\n",
       " 4,\n",
       " 4,\n",
       " 1,\n",
       " 1,\n",
       " 4,\n",
       " 1,\n",
       " 1,\n",
       " 5,\n",
       " 1,\n",
       " 2,\n",
       " 4,\n",
       " 2,\n",
       " 1,\n",
       " 4,\n",
       " 1,\n",
       " 1,\n",
       " 4,\n",
       " 3,\n",
       " 5,\n",
       " 1,\n",
       " 2,\n",
       " 1]"
      ]
     },
     "execution_count": 28,
     "metadata": {},
     "output_type": "execute_result"
    }
   ],
   "source": [
    "number_list"
   ]
  },
  {
   "cell_type": "code",
   "execution_count": 29,
   "id": "8b3ca29c",
   "metadata": {
    "scrolled": true
   },
   "outputs": [
    {
     "name": "stdout",
     "output_type": "stream",
     "text": [
      "Day 10 Fish\n",
      "774\n",
      "Day 20 Fish\n",
      "2050\n",
      "Day 30 Fish\n",
      "4687\n",
      "Day 40 Fish\n",
      "10641\n",
      "Day 50 Fish\n",
      "27011\n",
      "Day 60 Fish\n",
      "63575\n",
      "Day 70 Fish\n",
      "150013\n",
      "Day 80 Fish\n",
      "365862\n"
     ]
    }
   ],
   "source": [
    "for i in range(80):\n",
    "    additional_list = []\n",
    "    for idx, num in enumerate(number_list):\n",
    "        if num == 0:\n",
    "            additional_list.append(8)\n",
    "            number_list[idx] = 6\n",
    "        else:\n",
    "            number_list[idx] = num - 1\n",
    "    number_list = number_list + additional_list\n",
    "    \n",
    "    if (i+1) % 10 == 0:\n",
    "        print(f\"Day {i+1} Fish\")\n",
    "        print(len(number_list))"
   ]
  },
  {
   "cell_type": "markdown",
   "id": "9f8ff4d4",
   "metadata": {},
   "source": [
    "## Day 4 Part 2"
   ]
  },
  {
   "cell_type": "code",
   "execution_count": 70,
   "id": "385c111c",
   "metadata": {},
   "outputs": [],
   "source": [
    "number_df = pd.read_csv(r'\\\\corp-not-vs12\\V12PERSON\\HR Analysis Team\\01_HRAnalysisTeam\\106_Lewis\\AdventOfCode2021\\Day6\\InputFile2.csv', header=None)"
   ]
  },
  {
   "cell_type": "code",
   "execution_count": 71,
   "id": "6764cb2c",
   "metadata": {},
   "outputs": [],
   "source": [
    "number_list = number_df[0].str.split(',')[0]\n",
    "number_list = [int(x) for x in number_list]"
   ]
  },
  {
   "cell_type": "code",
   "execution_count": 72,
   "id": "9103006d",
   "metadata": {},
   "outputs": [],
   "source": [
    "number_array = np.array(number_list)"
   ]
  },
  {
   "cell_type": "code",
   "execution_count": 73,
   "id": "bc2a9575",
   "metadata": {},
   "outputs": [],
   "source": [
    "fish_dict = dict((num, number_list.count(num)) for num in set(number_list))"
   ]
  },
  {
   "cell_type": "code",
   "execution_count": 74,
   "id": "c6bf0e51",
   "metadata": {},
   "outputs": [],
   "source": [
    "fish_dict[0] = 0\n",
    "fish_dict[6] = 0\n",
    "fish_dict[7] = 0\n",
    "fish_dict[8] = 0"
   ]
  },
  {
   "cell_type": "code",
   "execution_count": 75,
   "id": "c19f77d8",
   "metadata": {},
   "outputs": [
    {
     "name": "stdout",
     "output_type": "stream",
     "text": [
      "Day 32 Fish\n",
      "5491\n",
      "Day 64 Fish\n",
      "90659\n",
      "Day 96 Fish\n",
      "1474173\n",
      "Day 128 Fish\n",
      "23897223\n",
      "Day 160 Fish\n",
      "387321125\n",
      "Day 192 Fish\n",
      "6280219985\n",
      "Day 224 Fish\n",
      "101876736166\n",
      "Day 256 Fish\n",
      "1653250886439\n"
     ]
    }
   ],
   "source": [
    "for i in range(256):\n",
    "    temp = fish_dict[0]\n",
    "    fish_dict[0] = fish_dict[1]\n",
    "    fish_dict[1] = fish_dict[2]\n",
    "    fish_dict[2] = fish_dict[3]\n",
    "    fish_dict[3] = fish_dict[4]\n",
    "    fish_dict[4] = fish_dict[5]\n",
    "    fish_dict[5] = fish_dict[6]\n",
    "    fish_dict[6] = fish_dict[7] + temp\n",
    "    fish_dict[7] = fish_dict[8]\n",
    "    fish_dict[8] = temp\n",
    "    \n",
    "    #print(fish_dict)\n",
    "\n",
    "    if (i+1) % 32 == 0:\n",
    "        print(f\"Day {i+1} Fish\")\n",
    "        print(fish_dict[0]+fish_dict[1]+fish_dict[2]+fish_dict[3]+fish_dict[4]+fish_dict[5]+fish_dict[6]+fish_dict[7]+fish_dict[8])"
   ]
  },
  {
   "cell_type": "code",
   "execution_count": 76,
   "id": "74749c66",
   "metadata": {},
   "outputs": [],
   "source": [
    "# Inefficient code attempts below"
   ]
  },
  {
   "cell_type": "code",
   "execution_count": 77,
   "id": "1fa6a68f",
   "metadata": {},
   "outputs": [],
   "source": [
    "#number_array"
   ]
  },
  {
   "cell_type": "code",
   "execution_count": 78,
   "id": "0c8f261e",
   "metadata": {},
   "outputs": [
    {
     "data": {
      "text/plain": [
       "'for i in range(256):\\n    # create all additional fish based on current 0s\\n    #temp_list = [x for x in number_list if x==0]\\n    zero_list = number_array[number_array==0]\\n    #print(zero_list)\\n    #print(len(zero_list))\\n    num_new = len(zero_list)\\n    #print(num_new)\\n    new_list = [8]*num_new\\n    # replace current 0s with 6s and minus 1 to all others\\n    #number_list = [replace_num(x) for x in number_list]\\n    number_array[number_array==0] = 6\\n    number_array[number_array==1] = 0\\n    number_array[number_array==2] = 1\\n    number_array[number_array==3] = 2\\n    number_array[number_array==4] = 3\\n    number_array[number_array==5] = 4\\n    number_array[number_array==6] = 5\\n    number_array[number_array==7] = 6\\n    number_array[number_array==8] = 7\\n    #other_list = number_list[number_list>0]\\n    #other_list = [x-1 for x in other_list]\\n    #print(number_list)\\n    # add new list to amended list\\n    number_array = np.append(number_array, new_list)\\n    if (i+1) % 32 == 0:\\n        print(f\"Day {i+1} Fish\")\\n        print(len(number_array))'"
      ]
     },
     "execution_count": 78,
     "metadata": {},
     "output_type": "execute_result"
    }
   ],
   "source": [
    "# Inefficient code\n",
    "\"\"\"for i in range(256):\n",
    "    # create all additional fish based on current 0s\n",
    "    #temp_list = [x for x in number_list if x==0]\n",
    "    zero_list = number_array[number_array==0]\n",
    "    #print(zero_list)\n",
    "    #print(len(zero_list))\n",
    "    num_new = len(zero_list)\n",
    "    #print(num_new)\n",
    "    new_list = [8]*num_new\n",
    "    # replace current 0s with 6s and minus 1 to all others\n",
    "    #number_list = [replace_num(x) for x in number_list]\n",
    "    number_array[number_array==0] = 6\n",
    "    number_array[number_array==1] = 0\n",
    "    number_array[number_array==2] = 1\n",
    "    number_array[number_array==3] = 2\n",
    "    number_array[number_array==4] = 3\n",
    "    number_array[number_array==5] = 4\n",
    "    number_array[number_array==6] = 5\n",
    "    number_array[number_array==7] = 6\n",
    "    number_array[number_array==8] = 7\n",
    "    #other_list = number_list[number_list>0]\n",
    "    #other_list = [x-1 for x in other_list]\n",
    "    #print(number_list)\n",
    "    # add new list to amended list\n",
    "    number_array = np.append(number_array, new_list)\n",
    "    if (i+1) % 32 == 0:\n",
    "        print(f\"Day {i+1} Fish\")\n",
    "        print(len(number_array))\"\"\""
   ]
  },
  {
   "cell_type": "code",
   "execution_count": 79,
   "id": "ffeb311f",
   "metadata": {},
   "outputs": [
    {
     "data": {
      "text/plain": [
       "'def _replaceitem(x):\\n    if x > 0:\\n        return x-1\\n    elif x == 0:\\n        return 6\\n    else:\\n        return x\\ndef condition(x):\\n      return x == 0\\ndef replace_num(x):\\n    if x > 0:\\n        return x-1\\n    elif x == 0:\\n        return 6\\n    else:\\n        return x'"
      ]
     },
     "execution_count": 79,
     "metadata": {},
     "output_type": "execute_result"
    }
   ],
   "source": [
    "\"\"\"def _replaceitem(x):\n",
    "    if x > 0:\n",
    "        return x-1\n",
    "    elif x == 0:\n",
    "        return 6\n",
    "    else:\n",
    "        return x\n",
    "def condition(x):\n",
    "      return x == 0\n",
    "def replace_num(x):\n",
    "    if x > 0:\n",
    "        return x-1\n",
    "    elif x == 0:\n",
    "        return 6\n",
    "    else:\n",
    "        return x\"\"\""
   ]
  },
  {
   "cell_type": "code",
   "execution_count": 80,
   "id": "9f6fddab",
   "metadata": {},
   "outputs": [
    {
     "data": {
      "text/plain": [
       "'for i in range(256):\\n    # create all additional fish based on current 0s\\n    num_new = sum(condition(x) for x in number_list)\\n    new_list = [8]*num_new\\n    # replace current 0s with 6s and minus 1 to all others\\n    number_list = list(map(_replaceitem, number_list))\\n    #print(number_list)\\n    # add new list to amended list\\n    number_list = number_list + new_list\\n    if (i+1) % 32 == 0:\\n        print(f\"Day {i+1} Fish\")\\n        print(len(number_list))'"
      ]
     },
     "execution_count": 80,
     "metadata": {},
     "output_type": "execute_result"
    }
   ],
   "source": [
    "\"\"\"for i in range(256):\n",
    "    # create all additional fish based on current 0s\n",
    "    num_new = sum(condition(x) for x in number_list)\n",
    "    new_list = [8]*num_new\n",
    "    # replace current 0s with 6s and minus 1 to all others\n",
    "    number_list = list(map(_replaceitem, number_list))\n",
    "    #print(number_list)\n",
    "    # add new list to amended list\n",
    "    number_list = number_list + new_list\n",
    "    if (i+1) % 32 == 0:\n",
    "        print(f\"Day {i+1} Fish\")\n",
    "        print(len(number_list))\"\"\""
   ]
  },
  {
   "cell_type": "code",
   "execution_count": 81,
   "id": "aa3b5c80",
   "metadata": {},
   "outputs": [
    {
     "data": {
      "text/plain": [
       "'for i in range(256):\\n    # create all additional fish based on current 0s\\n    temp_list = [x for x in number_list if x==0]\\n    num_new = len(temp_list)\\n    new_list = [8]*num_new\\n    # replace current 0s with 6s and minus 1 to all others\\n    number_list = [replace_num(x) for x in number_list]\\n    #print(number_list)\\n    # add new list to amended list\\n    number_list = number_list + new_list\\n    if (i+1) % 32 == 0:\\n        print(f\"Day {i+1} Fish\")\\n        print(len(number_list))'"
      ]
     },
     "execution_count": 81,
     "metadata": {},
     "output_type": "execute_result"
    }
   ],
   "source": [
    "\"\"\"for i in range(256):\n",
    "    # create all additional fish based on current 0s\n",
    "    temp_list = [x for x in number_list if x==0]\n",
    "    num_new = len(temp_list)\n",
    "    new_list = [8]*num_new\n",
    "    # replace current 0s with 6s and minus 1 to all others\n",
    "    number_list = [replace_num(x) for x in number_list]\n",
    "    #print(number_list)\n",
    "    # add new list to amended list\n",
    "    number_list = number_list + new_list\n",
    "    if (i+1) % 32 == 0:\n",
    "        print(f\"Day {i+1} Fish\")\n",
    "        print(len(number_list))\"\"\""
   ]
  },
  {
   "cell_type": "code",
   "execution_count": null,
   "id": "596547d3",
   "metadata": {},
   "outputs": [],
   "source": []
  }
 ],
 "metadata": {
  "kernelspec": {
   "display_name": "Python 3",
   "language": "python",
   "name": "python3"
  },
  "language_info": {
   "codemirror_mode": {
    "name": "ipython",
    "version": 3
   },
   "file_extension": ".py",
   "mimetype": "text/x-python",
   "name": "python",
   "nbconvert_exporter": "python",
   "pygments_lexer": "ipython3",
   "version": "3.8.8"
  }
 },
 "nbformat": 4,
 "nbformat_minor": 5
}
