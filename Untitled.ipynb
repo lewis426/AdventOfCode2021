{
 "cells": [
  {
   "cell_type": "code",
   "execution_count": 141,
   "id": "5cd706d3",
   "metadata": {},
   "outputs": [],
   "source": [
    "import pandas as pd\n",
    "from collections import Counter"
   ]
  },
  {
   "cell_type": "code",
   "execution_count": 142,
   "id": "abfff6b5",
   "metadata": {},
   "outputs": [],
   "source": [
    "number_df = pd.read_csv(r'\\\\corp-not-vs12\\V12PERSON\\HR Analysis Team\\01_HRAnalysisTeam\\106_Lewis\\AdventOfCode2021\\Day6\\InputFile2.csv', header=None)"
   ]
  },
  {
   "cell_type": "code",
   "execution_count": 143,
   "id": "7de6b9ff",
   "metadata": {},
   "outputs": [],
   "source": [
    "number_list = number_df[0].str.split(',')[0]\n",
    "number_list = [int(x) for x in number_list]"
   ]
  },
  {
   "cell_type": "code",
   "execution_count": 144,
   "id": "0988fc4f",
   "metadata": {},
   "outputs": [],
   "source": [
    "fish_dict = dict((num, number_list.count(num)) for num in set(number_list))"
   ]
  },
  {
   "cell_type": "code",
   "execution_count": 145,
   "id": "5be44ada",
   "metadata": {},
   "outputs": [
    {
     "data": {
      "text/plain": [
       "{1: 130, 2: 44, 3: 36, 4: 51, 5: 39}"
      ]
     },
     "execution_count": 145,
     "metadata": {},
     "output_type": "execute_result"
    }
   ],
   "source": [
    "fish_dict"
   ]
  },
  {
   "cell_type": "code",
   "execution_count": 146,
   "id": "ce10673f",
   "metadata": {},
   "outputs": [],
   "source": [
    "fish_dict[0] = 0\n",
    "fish_dict[6] = 0\n",
    "fish_dict[7] = 0\n",
    "fish_dict[8] = 0"
   ]
  },
  {
   "cell_type": "code",
   "execution_count": 147,
   "id": "aea67d0a",
   "metadata": {},
   "outputs": [
    {
     "name": "stdout",
     "output_type": "stream",
     "text": [
      "Day 32 Fish\n",
      "5491\n",
      "Day 64 Fish\n",
      "90659\n",
      "Day 96 Fish\n",
      "1474173\n",
      "Day 128 Fish\n",
      "23897223\n",
      "Day 160 Fish\n",
      "387321125\n",
      "Day 192 Fish\n",
      "6280219985\n",
      "Day 224 Fish\n",
      "101876736166\n",
      "Day 256 Fish\n",
      "1653250886439\n"
     ]
    }
   ],
   "source": [
    "for i in range(256):\n",
    "    temp = fish_dict[0]\n",
    "    fish_dict[0] = fish_dict[1]\n",
    "    fish_dict[1] = fish_dict[2]\n",
    "    fish_dict[2] = fish_dict[3]\n",
    "    fish_dict[3] = fish_dict[4]\n",
    "    fish_dict[4] = fish_dict[5]\n",
    "    fish_dict[5] = fish_dict[6]\n",
    "    fish_dict[6] = fish_dict[7] + temp\n",
    "    fish_dict[7] = fish_dict[8]\n",
    "    fish_dict[8] = temp\n",
    "    \n",
    "    #print(fish_dict)\n",
    "\n",
    "    if (i+1) % 32 == 0:\n",
    "        print(f\"Day {i+1} Fish\")\n",
    "        print(fish_dict[0]+fish_dict[1]+fish_dict[2]+fish_dict[3]+fish_dict[4]+fish_dict[5]+fish_dict[6]+fish_dict[7]+fish_dict[8])"
   ]
  },
  {
   "cell_type": "code",
   "execution_count": 83,
   "id": "5eb0e440",
   "metadata": {},
   "outputs": [
    {
     "data": {
      "text/plain": [
       "{1: 2493709752587,\n",
       " 2: 6588948734993,\n",
       " 3: 3044181463810,\n",
       " 4: 8043420269060,\n",
       " 5: 3716166648271,\n",
       " 0: 5397485534488,\n",
       " 6: 9818957452449,\n",
       " 7: 2042778595132,\n",
       " 8: 5397485534488}"
      ]
     },
     "execution_count": 83,
     "metadata": {},
     "output_type": "execute_result"
    }
   ],
   "source": [
    "fish_dict"
   ]
  },
  {
   "cell_type": "code",
   "execution_count": null,
   "id": "aef197bc",
   "metadata": {},
   "outputs": [],
   "source": []
  }
 ],
 "metadata": {
  "kernelspec": {
   "display_name": "Python 3",
   "language": "python",
   "name": "python3"
  }
 },
 "nbformat": 4,
 "nbformat_minor": 5
}
